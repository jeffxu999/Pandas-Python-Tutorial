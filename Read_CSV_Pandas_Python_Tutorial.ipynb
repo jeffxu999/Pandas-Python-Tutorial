{
  "nbformat": 4,
  "nbformat_minor": 0,
  "metadata": {
    "colab": {
      "name": "Read CSV - Pandas Python Tutorial.ipynb",
      "version": "0.3.2",
      "provenance": [],
      "collapsed_sections": []
    },
    "kernelspec": {
      "name": "python3",
      "display_name": "Python 3"
    }
  },
  "cells": [
    {
      "metadata": {
        "id": "eV-nTyMbbnFU",
        "colab_type": "code",
        "colab": {}
      },
      "cell_type": "code",
      "source": [
        "# Read CSV - Pandas Python Tutorial\n",
        "\n",
        "######################################################\n",
        "\n",
        "import pandas as pd\n",
        "from google.colab import drive\n",
        "\n",
        "drive.mount(\"/content/gdrive\")\n",
        "\n",
        "stock_data = pd.read_csv(\"AAPL.csv\")\n",
        "\n",
        "print(stock_data)\n",
        "\n",
        "######################################################\n",
        "\n",
        "for item in stock_data:\n",
        "    print(item)\n",
        "    \n",
        "print(stock_data.Date)\n",
        "\n",
        "print(stock_data.Open)\n",
        "\n",
        "print(stock_data.High)\n",
        "\n",
        "print(stock_data.Low)\n",
        "\n",
        "print(stock_data.Close)\n",
        "\n",
        "print(stock_data[\"Adj Close\"])\n",
        "\n",
        "print(stock_data.Volume)"
      ],
      "execution_count": 0,
      "outputs": []
    }
  ]
}