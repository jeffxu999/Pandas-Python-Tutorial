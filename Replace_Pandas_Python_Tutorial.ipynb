{
  "nbformat": 4,
  "nbformat_minor": 0,
  "metadata": {
    "colab": {
      "name": "Replace - Pandas Python Tutorial.ipynb",
      "version": "0.3.2",
      "provenance": []
    },
    "kernelspec": {
      "name": "python3",
      "display_name": "Python 3"
    }
  },
  "cells": [
    {
      "metadata": {
        "id": "Gy_dDTqNboY4",
        "colab_type": "code",
        "colab": {
          "base_uri": "https://localhost:8080/",
          "height": 403
        },
        "outputId": "5d0d580b-fb21-49ed-d887-f87de24453eb"
      },
      "cell_type": "code",
      "source": [
        "# Replace - Pandas Python Tutorial\n",
        "\n",
        "######################################################\n",
        "\n",
        "import pandas as pd\n",
        "\n",
        "some_data = [1,\"NA\",3,4,5,\"NA\",7,8,\"NA\",10]\n",
        "\n",
        "print(some_data)\n",
        "\n",
        "some_data = pd.DataFrame(some_data)\n",
        "\n",
        "print(some_data)\n",
        "\n",
        "some_data = some_data.replace(\"NA\",999999999)\n",
        "\n",
        "print(some_data)"
      ],
      "execution_count": 1,
      "outputs": [
        {
          "output_type": "stream",
          "text": [
            "[1, 'NA', 3, 4, 5, 'NA', 7, 8, 'NA', 10]\n",
            "    0\n",
            "0   1\n",
            "1  NA\n",
            "2   3\n",
            "3   4\n",
            "4   5\n",
            "5  NA\n",
            "6   7\n",
            "7   8\n",
            "8  NA\n",
            "9  10\n",
            "           0\n",
            "0          1\n",
            "1  999999999\n",
            "2          3\n",
            "3          4\n",
            "4          5\n",
            "5  999999999\n",
            "6          7\n",
            "7          8\n",
            "8  999999999\n",
            "9         10\n"
          ],
          "name": "stdout"
        }
      ]
    }
  ]
}