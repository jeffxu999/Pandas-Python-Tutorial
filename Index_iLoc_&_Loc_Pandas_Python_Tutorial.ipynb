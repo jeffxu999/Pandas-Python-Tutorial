{
  "nbformat": 4,
  "nbformat_minor": 0,
  "metadata": {
    "colab": {
      "name": "Index iLoc & Loc - Pandas Python Tutorial.ipynb",
      "version": "0.3.2",
      "provenance": []
    },
    "kernelspec": {
      "name": "python3",
      "display_name": "Python 3"
    }
  },
  "cells": [
    {
      "metadata": {
        "id": "FEtBc-K4brTu",
        "colab_type": "code",
        "colab": {
          "base_uri": "https://localhost:8080/",
          "height": 336
        },
        "outputId": "f9a326df-6698-4610-a948-11209e615ebb"
      },
      "cell_type": "code",
      "source": [
        "# Index iLoc & Loc - Pandas Python Tutorial\n",
        "\n",
        "######################################################\n",
        "\n",
        "import pandas as pd\n",
        "\n",
        "some_people = [\"Elon Musk\",\"Peter Thiel\",\"Josiah Zayner\",\"Jeff Xu\"]\n",
        "legit_factor = [9,8,7,1]\n",
        "index_value = [\"Elon\",\"Peter\",\"Josiah\",\"Jeff\"]\n",
        "\n",
        "people_dict = {\"Name\":some_people,\"Legitness\":legit_factor}\n",
        "\n",
        "some_dataframe = pd.DataFrame(people_dict,index=index_value)\n",
        "\n",
        "print(some_dataframe)\n",
        "\n",
        "print(some_dataframe.loc[\"Elon\"])\n",
        "\n",
        "print(some_dataframe.loc[\"Elon\",\"Name\"])\n",
        "\n",
        "print(some_dataframe.loc[[\"Elon\",\"Josiah\"]])\n",
        "\n",
        "######################################################\n",
        "\n",
        "print(some_dataframe.iloc[0])\n",
        "\n",
        "print(some_dataframe.iloc[0,1])\n",
        "\n",
        "print(some_dataframe.iloc[[0,2]])"
      ],
      "execution_count": 1,
      "outputs": [
        {
          "output_type": "stream",
          "text": [
            "        Legitness           Name\n",
            "Elon            9      Elon Musk\n",
            "Peter           8    Peter Thiel\n",
            "Josiah          7  Josiah Zayner\n",
            "Jeff            1        Jeff Xu\n",
            "Legitness            9\n",
            "Name         Elon Musk\n",
            "Name: Elon, dtype: object\n",
            "Elon Musk\n",
            "        Legitness           Name\n",
            "Elon            9      Elon Musk\n",
            "Josiah          7  Josiah Zayner\n",
            "Legitness            9\n",
            "Name         Elon Musk\n",
            "Name: Elon, dtype: object\n",
            "Elon Musk\n",
            "        Legitness           Name\n",
            "Elon            9      Elon Musk\n",
            "Josiah          7  Josiah Zayner\n"
          ],
          "name": "stdout"
        }
      ]
    }
  ]
}